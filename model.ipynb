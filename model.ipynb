{
 "cells": [
  {
   "cell_type": "code",
   "execution_count": 1,
   "id": "247451a3",
   "metadata": {},
   "outputs": [],
   "source": [
    "# import Data Manipulation Libraries\n",
    "import numpy as np\n",
    "import pandas as pd\n",
    "\n",
    "#Import Data Visualization Libraries \n",
    "import matplotlib.pyplot as plt\n",
    "import seaborn as sns\n",
    "\n",
    "#Import Filter Warning Libraries\n",
    "import warnings\n",
    "warnings.filterwarnings('ignore')\n",
    "\n",
    "#Import Logging Files\n",
    "import logging\n",
    "logging.basicConfig(level= logging.INFO,\n",
    "                    filemode= 'w',\n",
    "                    filename= 'model.log',\n",
    "                    format= '%(asctime)s - %(levelname)s-%(message)s', force = True)\n",
    "\n",
    "#Import Stats Scipy Library\n",
    "import scipy.stats as stats "
   ]
  },
  {
   "cell_type": "code",
   "execution_count": null,
   "id": "71a2a311",
   "metadata": {},
   "outputs": [],
   "source": [
    "#Data Import Using Pandas Function\n",
    "\n",
    "url = ''\n",
    "\n",
    "df =  pd.read_csv(url,sep = ';')\n",
    "\n",
    "df.sample(frac =1)  #Shuffle Dataset"
   ]
  }
 ],
 "metadata": {
  "kernelspec": {
   "display_name": "base",
   "language": "python",
   "name": "python3"
  },
  "language_info": {
   "codemirror_mode": {
    "name": "ipython",
    "version": 3
   },
   "file_extension": ".py",
   "mimetype": "text/x-python",
   "name": "python",
   "nbconvert_exporter": "python",
   "pygments_lexer": "ipython3",
   "version": "3.12.7"
  }
 },
 "nbformat": 4,
 "nbformat_minor": 5
}
